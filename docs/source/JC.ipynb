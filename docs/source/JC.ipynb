{
 "cells": [
  {
   "cell_type": "code",
   "execution_count": 5,
   "metadata": {},
   "outputs": [],
   "source": [
    "import numpy as np"
   ]
  },
  {
   "cell_type": "code",
   "execution_count": 2,
   "metadata": {},
   "outputs": [],
   "source": [
    "import pyarrow as pa"
   ]
  },
  {
   "cell_type": "code",
   "execution_count": 3,
   "metadata": {},
   "outputs": [],
   "source": [
    "import pandas as pd"
   ]
  },
  {
   "cell_type": "code",
   "execution_count": 9,
   "metadata": {},
   "outputs": [],
   "source": [
    "a = pd.DataFrame(np.random.randn(10000000,10), columns=list('abcdefghij'))"
   ]
  },
  {
   "cell_type": "code",
   "execution_count": 16,
   "metadata": {},
   "outputs": [],
   "source": [
    "a.to_parquet('/Users/jamieclery/GitHub/vaex/JC/out.pqt')"
   ]
  },
  {
   "cell_type": "code",
   "execution_count": 11,
   "metadata": {},
   "outputs": [],
   "source": [
    "b = pa.Table.from_pandas(a)"
   ]
  },
  {
   "cell_type": "code",
   "execution_count": 13,
   "metadata": {},
   "outputs": [],
   "source": [
    "c = b.to_batches()\n",
    "with pa.OSFile('/Users/jamieclery/GitHub/vaex/JC/out.arrow', 'wb') as sink:\n",
    "    writer = pa.RecordBatchStreamWriter(sink, c[0].schema)\n",
    "    writer.write_table(b)"
   ]
  },
  {
   "cell_type": "code",
   "execution_count": 15,
   "metadata": {},
   "outputs": [
    {
     "data": {
      "text/plain": [
       "a: double\n",
       "b: double\n",
       "c: double\n",
       "d: double\n",
       "e: double\n",
       "f: double\n",
       "g: double\n",
       "h: double\n",
       "i: double\n",
       "j: double\n",
       "metadata\n",
       "--------\n",
       "OrderedDict([(b'pandas',\n",
       "              b'{\"index_columns\": [{\"kind\": \"range\", \"name\": null, \"start\": '\n",
       "              b'0, \"stop\": 10000000, \"step\": 1}], \"column_indexes\": [{\"name\"'\n",
       "              b': null, \"field_name\": null, \"pandas_type\": \"unicode\", \"numpy'\n",
       "              b'_type\": \"object\", \"metadata\": {\"encoding\": \"UTF-8\"}}], \"colu'\n",
       "              b'mns\": [{\"name\": \"a\", \"field_name\": \"a\", \"pandas_type\": \"floa'\n",
       "              b't64\", \"numpy_type\": \"float64\", \"metadata\": null}, {\"name\": \"'\n",
       "              b'b\", \"field_name\": \"b\", \"pandas_type\": \"float64\", \"numpy_type'\n",
       "              b'\": \"float64\", \"metadata\": null}, {\"name\": \"c\", \"field_name\":'\n",
       "              b' \"c\", \"pandas_type\": \"float64\", \"numpy_type\": \"float64\", \"me'\n",
       "              b'tadata\": null}, {\"name\": \"d\", \"field_name\": \"d\", \"pandas_typ'\n",
       "              b'e\": \"float64\", \"numpy_type\": \"float64\", \"metadata\": null}, {'\n",
       "              b'\"name\": \"e\", \"field_name\": \"e\", \"pandas_type\": \"float64\", \"n'\n",
       "              b'umpy_type\": \"float64\", \"metadata\": null}, {\"name\": \"f\", \"fie'\n",
       "              b'ld_name\": \"f\", \"pandas_type\": \"float64\", \"numpy_type\": \"floa'\n",
       "              b't64\", \"metadata\": null}, {\"name\": \"g\", \"field_name\": \"g\", \"p'\n",
       "              b'andas_type\": \"float64\", \"numpy_type\": \"float64\", \"metadata\":'\n",
       "              b' null}, {\"name\": \"h\", \"field_name\": \"h\", \"pandas_type\": \"flo'\n",
       "              b'at64\", \"numpy_type\": \"float64\", \"metadata\": null}, {\"name\": '\n",
       "              b'\"i\", \"field_name\": \"i\", \"pandas_type\": \"float64\", \"numpy_typ'\n",
       "              b'e\": \"float64\", \"metadata\": null}, {\"name\": \"j\", \"field_name\"'\n",
       "              b': \"j\", \"pandas_type\": \"float64\", \"numpy_type\": \"float64\", \"m'\n",
       "              b'etadata\": null}], \"creator\": {\"library\": \"pyarrow\", \"version'\n",
       "              b'\": \"0.14.0\"}, \"pandas_version\": \"0.24.2\"}')])"
      ]
     },
     "execution_count": 15,
     "metadata": {},
     "output_type": "execute_result"
    }
   ],
   "source": [
    "c[0].schema"
   ]
  },
  {
   "cell_type": "code",
   "execution_count": null,
   "metadata": {},
   "outputs": [],
   "source": []
  }
 ],
 "metadata": {
  "kernelspec": {
   "display_name": "Python 3",
   "language": "python",
   "name": "python3"
  },
  "language_info": {
   "codemirror_mode": {
    "name": "ipython",
    "version": 3
   },
   "file_extension": ".py",
   "mimetype": "text/x-python",
   "name": "python",
   "nbconvert_exporter": "python",
   "pygments_lexer": "ipython3",
   "version": "3.6.7"
  }
 },
 "nbformat": 4,
 "nbformat_minor": 4
}
